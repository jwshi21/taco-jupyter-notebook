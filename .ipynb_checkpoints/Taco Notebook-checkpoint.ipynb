{
 "cells": [
  {
   "cell_type": "markdown",
   "metadata": {},
   "source": [
    "# Introduction to TACO\n",
    "\n",
    "TACO, which stands for Tensor Algebra Compiler, is a library for performing sparse and dense linear algebra and tensor algebra computations. \n",
    "\n",
    "The computations can range from relatively simple ones like sparse matrix-vector multiplication to more complex ones like matricized tensor times Khatri-Rao product. All these computations can be performed on any mix of dense and sparse tensors. Under the hood, TACO automatically generates efficient code to perform these computations.\n",
    "\n",
    "This notebook provides a brief introduction to the TACO Python Library. For a more comprehensive overview, please see the documentation linked [here](http://tensor-compiler.org/symphony-docs/index.html). We will also link to relevant pages as we progress."
   ]
  },
  {
   "cell_type": "markdown",
   "metadata": {},
   "source": [
    "## Table of Contents:\n",
    "* [Getting Started](#first-section)\n",
    "* [Defining Tensor Formats](#second-section)\n",
    "* [Example Application: SpMV](#third-section)\n",
    "* [More Tensor Computations](#fourth-section)"
   ]
  },
  {
   "cell_type": "markdown",
   "metadata": {},
   "source": [
    "## Getting Started <a class=\"anchor\" id=\"first-section\"></a>\n",
    "\n",
    "First, let's import TACO. Press Shift + Enter to run the code below. "
   ]
  },
  {
   "cell_type": "code",
   "execution_count": 1,
   "metadata": {},
   "outputs": [],
   "source": [
    "import pytaco as pt\n",
    "from pytaco import dense, compressed"
   ]
  },
  {
   "cell_type": "markdown",
   "metadata": {},
   "source": [
    "In the above, `dense` and `compressed` are [mode (dimension) formats](http://tensor-compiler.org/symphony-docs/reference/rst_files/mode_format.html). We can think of tensors as a multi-dimensional array, and the mode formats allow us to specify how we would like to store the data in each dimension: \n",
    "* If a dimension is `dense`, then all of the elements in that dimension are stored. \n",
    "* And if a dimension is `compressed`, then only non-zeros are stored.\n",
    "\n",
    "For example, we can declare a $512 \\times 64 \\times 2048$ [tensor](http://tensor-compiler.org/symphony-docs/reference/rst_files/tensor_class.html) whose first dimension is dense and second and third dimensions are compressed:"
   ]
  },
  {
   "cell_type": "code",
   "execution_count": 2,
   "metadata": {},
   "outputs": [],
   "source": [
    "T = pt.tensor([512, 64, 2048], pt.format([dense, compressed, compressed]))"
   ]
  },
  {
   "cell_type": "markdown",
   "metadata": {},
   "source": [
    "We can initialize $T$ by calling its `insert` [method](http://tensor-compiler.org/symphony-docs/reference/rst_files/functions/pytaco.tensor.insert.html) to add a nonzero element to the tensor. The `insert` method takes two arguments: a list specifying the coordinates of the nonzero element to be added and the value to be inserted at that coordinate:"
   ]
  },
  {
   "cell_type": "code",
   "execution_count": 3,
   "metadata": {},
   "outputs": [],
   "source": [
    "# Set T(0, 1, 0) = 42.0\n",
    "T.insert([0, 1, 0], 42.0)"
   ]
  },
  {
   "cell_type": "markdown",
   "metadata": {},
   "source": [
    "If multiple elements are inserted at the same coordinates, they are summed together:"
   ]
  },
  {
   "cell_type": "code",
   "execution_count": 4,
   "metadata": {},
   "outputs": [],
   "source": [
    "# Set T(0, 0, 1) = 12.0 + 24.0 = 36.0\n",
    "T.insert([0, 0, 1], 12.0)\n",
    "T.insert([0, 0, 1], 24.0)"
   ]
  },
  {
   "cell_type": "markdown",
   "metadata": {},
   "source": [
    "We can then iterate over the nonzero elements of the tensor as follows:"
   ]
  },
  {
   "cell_type": "code",
   "execution_count": 5,
   "metadata": {},
   "outputs": [
    {
     "name": "stdout",
     "output_type": "stream",
     "text": [
      "Coordinate: [0, 0, 1], Value: 36.0\n",
      "Coordinate: [0, 1, 0], Value: 42.0\n"
     ]
    }
   ],
   "source": [
    "for coordinate, value in T: \n",
    "    print(\"Coordinate: {}, Value: {}\".format(coordinate, value))"
   ]
  },
  {
   "cell_type": "markdown",
   "metadata": {},
   "source": [
    "## Defining Tensor Formats <a class=\"anchor\" id=\"second-section\"></a>\n",
    "\n",
    "Consider a matrix $M$ (aka a two-dimensional tensor) containing the following values:\n",
    "\n",
    "$$M = \\begin{bmatrix}\n",
    "    6 & \\cdot & 9 & 8 \\\\\n",
    "    \\cdot & \\cdot & \\cdot & \\cdot \\\\\n",
    "    5 & \\cdot & \\cdot & 7  \n",
    "\\end{bmatrix}$$\n",
    "\n",
    "Denote the rows and columns as dimensions $d_1$ and $d_2$, respectively. "
   ]
  },
  {
   "cell_type": "markdown",
   "metadata": {},
   "source": [
    "We will look at how $M$ is represented differently in different formats. For convenience, let's define a helper function to initialize $M$. "
   ]
  },
  {
   "cell_type": "code",
   "execution_count": 6,
   "metadata": {},
   "outputs": [],
   "source": [
    "def make_example_matrix(format):\n",
    "    M = pt.tensor([3, 4], format)\n",
    "    M.insert([0, 0], 6)\n",
    "    M.insert([0, 2], 9)\n",
    "    M.insert([0, 3], 8)\n",
    "    M.insert([2, 0], 5)\n",
    "    M.insert([2, 3], 7)\n",
    "    return M"
   ]
  },
  {
   "cell_type": "markdown",
   "metadata": {},
   "source": [
    "**Example 1**: Both $d_1$ and $d_2$ are dense.  \n",
    "\n",
    "Note that passing in `dense` makes all of the dimensions dense. This is equivalent to `pt.format(dense, dense)`."
   ]
  },
  {
   "cell_type": "code",
   "execution_count": 7,
   "metadata": {},
   "outputs": [
    {
     "data": {
      "text/plain": [
       "A24 (3x4) ({dense},{dense}; 0,1):\n",
       "dense (0): \n",
       "  [3]\n",
       "dense (1): \n",
       "  [4]\n",
       "[6, 0, 9, 8, 0, 0, 0, 0, 5, 0, 0, 7]"
      ]
     },
     "execution_count": 7,
     "metadata": {},
     "output_type": "execute_result"
    }
   ],
   "source": [
    "make_example_matrix(dense)"
   ]
  },
  {
   "cell_type": "markdown",
   "metadata": {},
   "source": [
    "For this example, we focus on the last line of the output, the `vals` array: since all values are stored, it is simply a flattened $3 \\times 4$ matrix."
   ]
  },
  {
   "cell_type": "markdown",
   "metadata": {},
   "source": [
    "**Example 2**: $d_1$ is dense and $d_2$ is compressed. This is called compressed sparse row (CSR) format."
   ]
  },
  {
   "cell_type": "code",
   "execution_count": 8,
   "metadata": {},
   "outputs": [],
   "source": [
    "csr = pt.format([dense, compressed])"
   ]
  },
  {
   "cell_type": "code",
   "execution_count": 9,
   "metadata": {
    "scrolled": true
   },
   "outputs": [
    {
     "data": {
      "text/plain": [
       "A42 (3x4) ({dense},{compressed}; 0,1):\n",
       "dense (0): \n",
       "  [3]\n",
       "compressed (1): \n",
       "  [0, 3, 3, 5]\n",
       "  [0, 2, 3, 0, 3]\n",
       "[6, 9, 8, 5, 7]"
      ]
     },
     "execution_count": 9,
     "metadata": {},
     "output_type": "execute_result"
    }
   ],
   "source": [
    "make_example_matrix(csr)"
   ]
  },
  {
   "cell_type": "markdown",
   "metadata": {},
   "source": [
    "Since $d_1$ is dense, we need only store the `size` of the dimension; values, both zero and non-zero, are stored for every coordinate in dimension $d_1$.  \n",
    "\n",
    "Since $d_2$ is compressed, we store a `pos` array on top and an `idx` array below; these together form a segmented vector with one segment per entry in the previous dimension. The `idx` array stores all the indices with nonzero values in the dimension, while the `pos` array stores the location in the `idx` array where each segment begins. Segment $i$ is stored in locations `pos[i]:pos[i+1]` in the `idx` array.\n",
    "\n",
    "The below animation visualizes the format. Hover over any non-empty entry of the matrix on the left to see how the value is stored."
   ]
  },
  {
   "cell_type": "code",
   "execution_count": 10,
   "metadata": {},
   "outputs": [
    {
     "data": {
      "text/html": [
       "<style>\n",
       "body {\n",
       "  margin: 40px;\n",
       "}\n",
       "\n",
       ".array {\n",
       "  float:left;\n",
       "  display: grid;\n",
       "  grid-gap: 10px;\n",
       "  background-color: #fff;\n",
       "  color: #444;\n",
       "  padding-right: 100px;\n",
       "}\n",
       "\n",
       ".array-5 {\n",
       "  grid-template-columns: repeat(5, 30px);\n",
       "}\n",
       "\n",
       ".array-9 {\n",
       "  grid-template-columns: repeat(9, 30px);\n",
       "}\n",
       "\n",
       ".elem {\n",
       "  display:flex;\n",
       "  height: 30px;\n",
       "  width: 30px;\n",
       "  justify-content: center;\n",
       "  align-items: center;\n",
       "}\n",
       "\n",
       ".box {\n",
       "  border: 1px solid #000;\n",
       "  font-size: 120%;\n",
       "}\n",
       "\n",
       ".extra-vertical-space {\n",
       "  padding-bottom: 50px;\n",
       "}\n",
       "</style><div class=\"array array-5\"><div class=elem></div><div class=\"elem\">0</div><div class=\"elem\">1</div><div class=\"elem\">2</div><div class=\"elem\">3</div><div class=\"elem\">0</div><div id=\"2a00\" class=\"elem box\">6</div><div id=\"2a01\" class=\"elem box\"></div><div id=\"2a02\" class=\"elem box\">9</div><div id=\"2a03\" class=\"elem box\">8</div><div class=\"elem\">1</div><div id=\"2a10\" class=\"elem box\"></div><div id=\"2a11\" class=\"elem box\"></div><div id=\"2a12\" class=\"elem box\"></div><div id=\"2a13\" class=\"elem box\"></div><div class=\"elem\">2</div><div id=\"2a20\" class=\"elem box\">5</div><div id=\"2a21\" class=\"elem box\"></div><div id=\"2a22\" class=\"elem box\"></div><div id=\"2a23\" class=\"elem box\">7</div></div><div class=\"array array-9\"><div class=\"elem\">size</div><div id=\"2size0\" class=\"elem box\">3</div><div class=\"elem extra-vertical-space\"></div><div class=\"elem extra-vertical-space\"></div><div class=\"elem extra-vertical-space\"></div><div class=\"elem extra-vertical-space\"></div><div class=\"elem extra-vertical-space\"></div><div class=\"elem extra-vertical-space\"></div><div class=\"elem extra-vertical-space\"></div><div class=\"elem\">pos</div><div id=\"2pos_c0\" class=\"elem box\">0</div><div id=\"2pos_c1\" class=\"elem box\">3</div><div id=\"2pos_c2\" class=\"elem box\">3</div><div id=\"2pos_c3\" class=\"elem box\">5</div><div class=\"elem\"></div><div class=\"elem\"></div><div class=\"elem\"></div><div class=\"elem\"></div><div class=\"elem\">idx</div><div id=\"2idx_c0\" class=\"elem box\">0</div><div id=\"2idx_c1\" class=\"elem box\">2</div><div id=\"2idx_c2\" class=\"elem box\">3</div><div id=\"2idx_c3\" class=\"elem box\">0</div><div id=\"2idx_c4\" class=\"elem box\">3</div><div class=\"elem extra-vertical-space\"></div><div class=\"elem extra-vertical-space\"></div><div class=\"elem extra-vertical-space\"></div><div class=\"elem\">vals</div><div id=\"2vals0\" class=\"elem box\">6</div><div id=\"2vals1\" class=\"elem box\">9</div><div id=\"2vals2\" class=\"elem box\">8</div><div id=\"2vals3\" class=\"elem box\">5</div><div id=\"2vals4\" class=\"elem box\">7</div><div class=\"elem extra-vertical-space\"></div><div class=\"elem extra-vertical-space\"></div><div class=\"elem extra-vertical-space\"></div></div><script>document.getElementById(\"2a00\").onmouseover =                        function() {mouse(\"2\", \"2a00\", \"___0100\", \"#0cf\")};document.getElementById(\"2a00\").onmouseout =                        function() {mouse(\"2\", \"2a00\", \"___0100\", \"#fff\")};document.getElementById(\"2a02\").onmouseover =                        function() {mouse(\"2\", \"2a02\", \"___0111\", \"#0cf\")};document.getElementById(\"2a02\").onmouseout =                        function() {mouse(\"2\", \"2a02\", \"___0111\", \"#fff\")};document.getElementById(\"2a03\").onmouseover =                        function() {mouse(\"2\", \"2a03\", \"___0122\", \"#0cf\")};document.getElementById(\"2a03\").onmouseout =                        function() {mouse(\"2\", \"2a03\", \"___0122\", \"#fff\")};document.getElementById(\"2a20\").onmouseover =                        function() {mouse(\"2\", \"2a20\", \"___2333\", \"#0cf\")};document.getElementById(\"2a20\").onmouseout =                        function() {mouse(\"2\", \"2a20\", \"___2333\", \"#fff\")};document.getElementById(\"2a23\").onmouseover =                        function() {mouse(\"2\", \"2a23\", \"___2344\", \"#0cf\")};document.getElementById(\"2a23\").onmouseout =                        function() {mouse(\"2\", \"2a23\", \"___2344\", \"#fff\")};function mouse(file_id, this_id, hover, color) {\n",
       "    var array_names = [\"pos_r\", \"pos_r\", \"idx_r\", \"pos_c\", \"pos_c\", \"idx_c\", \"vals\"]\n",
       "    for (var i = 0; i < hover.length; i++) {\n",
       "        var id = hover[i];\n",
       "        if (id !== \"_\") {\n",
       "            document.getElementById(this_id).style.background = color;\n",
       "            document.getElementById(file_id + array_names[i] + id).style.background = color;\n",
       "        }\n",
       "    }\n",
       "}</script>"
      ],
      "text/plain": [
       "<IPython.core.display.HTML object>"
      ]
     },
     "metadata": {},
     "output_type": "display_data"
    }
   ],
   "source": [
    "%run ./animation/animation_2.py"
   ]
  },
  {
   "cell_type": "markdown",
   "metadata": {},
   "source": [
    "**Example 3**: $d_1$ is compressed and $d_2$ is dense. This is called compressed sparse column (CSC) format."
   ]
  },
  {
   "cell_type": "code",
   "execution_count": 11,
   "metadata": {},
   "outputs": [],
   "source": [
    "csc = pt.format([compressed, dense])"
   ]
  },
  {
   "cell_type": "code",
   "execution_count": 12,
   "metadata": {
    "scrolled": true
   },
   "outputs": [
    {
     "data": {
      "text/plain": [
       "A60 (3x4) ({compressed},{dense}; 0,1):\n",
       "compressed (0): \n",
       "  [0, 2]\n",
       "  [0, 2]\n",
       "dense (1): \n",
       "  [4]\n",
       "[6, 0, 9, 8, 5, 0, 0, 7]"
      ]
     },
     "execution_count": 12,
     "metadata": {},
     "output_type": "execute_result"
    }
   ],
   "source": [
    "make_example_matrix(csc)"
   ]
  },
  {
   "cell_type": "markdown",
   "metadata": {},
   "source": [
    "In this format, $d_1$ has a `pos` and `idx` array, while `d_2` has only `size`. Also, notice how the zero values in non-zero rows are now stored."
   ]
  },
  {
   "cell_type": "code",
   "execution_count": 13,
   "metadata": {
    "scrolled": true
   },
   "outputs": [
    {
     "data": {
      "text/html": [
       "<style>\n",
       "body {\n",
       "  margin: 40px;\n",
       "}\n",
       "\n",
       ".array {\n",
       "  float:left;\n",
       "  display: grid;\n",
       "  grid-gap: 10px;\n",
       "  background-color: #fff;\n",
       "  color: #444;\n",
       "  padding-right: 100px;\n",
       "}\n",
       "\n",
       ".array-5 {\n",
       "  grid-template-columns: repeat(5, 30px);\n",
       "}\n",
       "\n",
       ".array-9 {\n",
       "  grid-template-columns: repeat(9, 30px);\n",
       "}\n",
       "\n",
       ".elem {\n",
       "  display:flex;\n",
       "  height: 30px;\n",
       "  width: 30px;\n",
       "  justify-content: center;\n",
       "  align-items: center;\n",
       "}\n",
       "\n",
       ".box {\n",
       "  border: 1px solid #000;\n",
       "  font-size: 120%;\n",
       "}\n",
       "\n",
       ".extra-vertical-space {\n",
       "  padding-bottom: 50px;\n",
       "}\n",
       "</style><div class=\"array array-5\"><div class=elem></div><div class=\"elem\">0</div><div class=\"elem\">1</div><div class=\"elem\">2</div><div class=\"elem\">3</div><div class=\"elem\">0</div><div id=\"3a00\" class=\"elem box\">6</div><div id=\"3a01\" class=\"elem box\">0</div><div id=\"3a02\" class=\"elem box\">9</div><div id=\"3a03\" class=\"elem box\">8</div><div class=\"elem\">1</div><div id=\"3a10\" class=\"elem box\"></div><div id=\"3a11\" class=\"elem box\"></div><div id=\"3a12\" class=\"elem box\"></div><div id=\"3a13\" class=\"elem box\"></div><div class=\"elem\">2</div><div id=\"3a20\" class=\"elem box\">5</div><div id=\"3a21\" class=\"elem box\">0</div><div id=\"3a22\" class=\"elem box\">0</div><div id=\"3a23\" class=\"elem box\">7</div></div><div class=\"array array-9\"><div class=\"elem\">pos</div><div id=\"3pos_r0\" class=\"elem box\">0</div><div id=\"3pos_r1\" class=\"elem box\">2</div><div class=\"elem\"></div><div class=\"elem\"></div><div class=\"elem\"></div><div class=\"elem\"></div><div class=\"elem\"></div><div class=\"elem\"></div><div class=\"elem\">idx</div><div id=\"3idx_r0\" class=\"elem box\">0</div><div id=\"3idx_r1\" class=\"elem box\">2</div><div class=\"elem extra-vertical-space\"></div><div class=\"elem extra-vertical-space\"></div><div class=\"elem extra-vertical-space\"></div><div class=\"elem extra-vertical-space\"></div><div class=\"elem extra-vertical-space\"></div><div class=\"elem extra-vertical-space\"></div><div class=\"elem\">size</div><div id=\"3size0\" class=\"elem box\">4</div><div class=\"elem extra-vertical-space\"></div><div class=\"elem extra-vertical-space\"></div><div class=\"elem extra-vertical-space\"></div><div class=\"elem extra-vertical-space\"></div><div class=\"elem extra-vertical-space\"></div><div class=\"elem extra-vertical-space\"></div><div class=\"elem extra-vertical-space\"></div><div class=\"elem\">vals</div><div id=\"3vals0\" class=\"elem box\">6</div><div id=\"3vals1\" class=\"elem box\">0</div><div id=\"3vals2\" class=\"elem box\">9</div><div id=\"3vals3\" class=\"elem box\">8</div><div id=\"3vals4\" class=\"elem box\">5</div><div id=\"3vals5\" class=\"elem box\">0</div><div id=\"3vals6\" class=\"elem box\">0</div><div id=\"3vals7\" class=\"elem box\">7</div></div><script>document.getElementById(\"3a00\").onmouseover =                        function() {mouse(\"3\", \"3a00\", \"010___0\", \"#0cf\")};document.getElementById(\"3a00\").onmouseout =                        function() {mouse(\"3\", \"3a00\", \"010___0\", \"#fff\")};document.getElementById(\"3a01\").onmouseover =                        function() {mouse(\"3\", \"3a01\", \"010___1\", \"#0cf\")};document.getElementById(\"3a01\").onmouseout =                        function() {mouse(\"3\", \"3a01\", \"010___1\", \"#fff\")};document.getElementById(\"3a02\").onmouseover =                        function() {mouse(\"3\", \"3a02\", \"010___2\", \"#0cf\")};document.getElementById(\"3a02\").onmouseout =                        function() {mouse(\"3\", \"3a02\", \"010___2\", \"#fff\")};document.getElementById(\"3a03\").onmouseover =                        function() {mouse(\"3\", \"3a03\", \"010___3\", \"#0cf\")};document.getElementById(\"3a03\").onmouseout =                        function() {mouse(\"3\", \"3a03\", \"010___3\", \"#fff\")};document.getElementById(\"3a20\").onmouseover =                        function() {mouse(\"3\", \"3a20\", \"011___4\", \"#0cf\")};document.getElementById(\"3a20\").onmouseout =                        function() {mouse(\"3\", \"3a20\", \"011___4\", \"#fff\")};document.getElementById(\"3a21\").onmouseover =                        function() {mouse(\"3\", \"3a21\", \"011___5\", \"#0cf\")};document.getElementById(\"3a21\").onmouseout =                        function() {mouse(\"3\", \"3a21\", \"011___5\", \"#fff\")};document.getElementById(\"3a22\").onmouseover =                        function() {mouse(\"3\", \"3a22\", \"011___6\", \"#0cf\")};document.getElementById(\"3a22\").onmouseout =                        function() {mouse(\"3\", \"3a22\", \"011___6\", \"#fff\")};document.getElementById(\"3a23\").onmouseover =                        function() {mouse(\"3\", \"3a23\", \"011___7\", \"#0cf\")};document.getElementById(\"3a23\").onmouseout =                        function() {mouse(\"3\", \"3a23\", \"011___7\", \"#fff\")};function mouse(file_id, this_id, hover, color) {\n",
       "    var array_names = [\"pos_r\", \"pos_r\", \"idx_r\", \"pos_c\", \"pos_c\", \"idx_c\", \"vals\"]\n",
       "    for (var i = 0; i < hover.length; i++) {\n",
       "        var id = hover[i];\n",
       "        if (id !== \"_\") {\n",
       "            document.getElementById(this_id).style.background = color;\n",
       "            document.getElementById(file_id + array_names[i] + id).style.background = color;\n",
       "        }\n",
       "    }\n",
       "}</script>"
      ],
      "text/plain": [
       "<IPython.core.display.HTML object>"
      ]
     },
     "metadata": {},
     "output_type": "display_data"
    }
   ],
   "source": [
    "%run ./animation/animation_3.py"
   ]
  },
  {
   "cell_type": "markdown",
   "metadata": {},
   "source": [
    "**Example 4**: Both $d_1$ and $d_2$ are compressed. This is called compressed sparse fiber (CSF) format.\n",
    "\n",
    "Again we note that passing in `compressed` is equivalent to `pt.format(compressed, compressed)`."
   ]
  },
  {
   "cell_type": "code",
   "execution_count": 14,
   "metadata": {},
   "outputs": [
    {
     "data": {
      "text/plain": [
       "A78 (3x4) ({compressed},{compressed}; 0,1):\n",
       "compressed (0): \n",
       "  [0, 2]\n",
       "  [0, 2]\n",
       "compressed (1): \n",
       "  [0, 3, 5]\n",
       "  [0, 2, 3, 0, 3]\n",
       "[6, 9, 8, 5, 7]"
      ]
     },
     "execution_count": 14,
     "metadata": {},
     "output_type": "execute_result"
    }
   ],
   "source": [
    "make_example_matrix(compressed)"
   ]
  },
  {
   "cell_type": "code",
   "execution_count": 15,
   "metadata": {},
   "outputs": [
    {
     "data": {
      "text/html": [
       "<style>\n",
       "body {\n",
       "  margin: 40px;\n",
       "}\n",
       "\n",
       ".array {\n",
       "  float:left;\n",
       "  display: grid;\n",
       "  grid-gap: 10px;\n",
       "  background-color: #fff;\n",
       "  color: #444;\n",
       "  padding-right: 100px;\n",
       "}\n",
       "\n",
       ".array-5 {\n",
       "  grid-template-columns: repeat(5, 30px);\n",
       "}\n",
       "\n",
       ".array-9 {\n",
       "  grid-template-columns: repeat(9, 30px);\n",
       "}\n",
       "\n",
       ".elem {\n",
       "  display:flex;\n",
       "  height: 30px;\n",
       "  width: 30px;\n",
       "  justify-content: center;\n",
       "  align-items: center;\n",
       "}\n",
       "\n",
       ".box {\n",
       "  border: 1px solid #000;\n",
       "  font-size: 120%;\n",
       "}\n",
       "\n",
       ".extra-vertical-space {\n",
       "  padding-bottom: 50px;\n",
       "}\n",
       "</style><div class=\"array array-5\"><div class=elem></div><div class=\"elem\">0</div><div class=\"elem\">1</div><div class=\"elem\">2</div><div class=\"elem\">3</div><div class=\"elem\">0</div><div id=\"4a00\" class=\"elem box\">6</div><div id=\"4a01\" class=\"elem box\"></div><div id=\"4a02\" class=\"elem box\">9</div><div id=\"4a03\" class=\"elem box\">8</div><div class=\"elem\">1</div><div id=\"4a10\" class=\"elem box\"></div><div id=\"4a11\" class=\"elem box\"></div><div id=\"4a12\" class=\"elem box\"></div><div id=\"4a13\" class=\"elem box\"></div><div class=\"elem\">2</div><div id=\"4a20\" class=\"elem box\">5</div><div id=\"4a21\" class=\"elem box\"></div><div id=\"4a22\" class=\"elem box\"></div><div id=\"4a23\" class=\"elem box\">7</div></div><div class=\"array array-9\"><div class=\"elem\">pos</div><div id=\"4pos_r0\" class=\"elem box\">0</div><div id=\"4pos_r1\" class=\"elem box\">2</div><div class=\"elem\"></div><div class=\"elem\"></div><div class=\"elem\"></div><div class=\"elem\"></div><div class=\"elem\"></div><div class=\"elem\"></div><div class=\"elem\">idx</div><div id=\"4idx_r0\" class=\"elem box\">0</div><div id=\"4idx_r1\" class=\"elem box\">2</div><div class=\"elem extra-vertical-space\"></div><div class=\"elem extra-vertical-space\"></div><div class=\"elem extra-vertical-space\"></div><div class=\"elem extra-vertical-space\"></div><div class=\"elem extra-vertical-space\"></div><div class=\"elem extra-vertical-space\"></div><div class=\"elem\">pos</div><div id=\"4pos_c0\" class=\"elem box\">0</div><div id=\"4pos_c1\" class=\"elem box\">3</div><div id=\"4pos_c2\" class=\"elem box\">5</div><div class=\"elem\"></div><div class=\"elem\"></div><div class=\"elem\"></div><div class=\"elem\"></div><div class=\"elem\"></div><div class=\"elem\">idx</div><div id=\"4idx_c0\" class=\"elem box\">0</div><div id=\"4idx_c1\" class=\"elem box\">2</div><div id=\"4idx_c2\" class=\"elem box\">3</div><div id=\"4idx_c3\" class=\"elem box\">0</div><div id=\"4idx_c4\" class=\"elem box\">3</div><div class=\"elem extra-vertical-space\"></div><div class=\"elem extra-vertical-space\"></div><div class=\"elem extra-vertical-space\"></div><div class=\"elem\">vals</div><div id=\"4vals0\" class=\"elem box\">6</div><div id=\"4vals1\" class=\"elem box\">9</div><div id=\"4vals2\" class=\"elem box\">8</div><div id=\"4vals3\" class=\"elem box\">5</div><div id=\"4vals4\" class=\"elem box\">7</div><div class=\"elem extra-vertical-space\"></div><div class=\"elem extra-vertical-space\"></div><div class=\"elem extra-vertical-space\"></div></div><script>document.getElementById(\"4a00\").onmouseover =                        function() {mouse(\"4\", \"4a00\", \"0100100\", \"#0cf\")};document.getElementById(\"4a00\").onmouseout =                        function() {mouse(\"4\", \"4a00\", \"0100100\", \"#fff\")};document.getElementById(\"4a02\").onmouseover =                        function() {mouse(\"4\", \"4a02\", \"0100111\", \"#0cf\")};document.getElementById(\"4a02\").onmouseout =                        function() {mouse(\"4\", \"4a02\", \"0100111\", \"#fff\")};document.getElementById(\"4a03\").onmouseover =                        function() {mouse(\"4\", \"4a03\", \"0100122\", \"#0cf\")};document.getElementById(\"4a03\").onmouseout =                        function() {mouse(\"4\", \"4a03\", \"0100122\", \"#fff\")};document.getElementById(\"4a20\").onmouseover =                        function() {mouse(\"4\", \"4a20\", \"0111233\", \"#0cf\")};document.getElementById(\"4a20\").onmouseout =                        function() {mouse(\"4\", \"4a20\", \"0111233\", \"#fff\")};document.getElementById(\"4a23\").onmouseover =                        function() {mouse(\"4\", \"4a23\", \"0111244\", \"#0cf\")};document.getElementById(\"4a23\").onmouseout =                        function() {mouse(\"4\", \"4a23\", \"0111244\", \"#fff\")};function mouse(file_id, this_id, hover, color) {\n",
       "    var array_names = [\"pos_r\", \"pos_r\", \"idx_r\", \"pos_c\", \"pos_c\", \"idx_c\", \"vals\"]\n",
       "    for (var i = 0; i < hover.length; i++) {\n",
       "        var id = hover[i];\n",
       "        if (id !== \"_\") {\n",
       "            document.getElementById(this_id).style.background = color;\n",
       "            document.getElementById(file_id + array_names[i] + id).style.background = color;\n",
       "        }\n",
       "    }\n",
       "}</script>"
      ],
      "text/plain": [
       "<IPython.core.display.HTML object>"
      ]
     },
     "metadata": {},
     "output_type": "display_data"
    }
   ],
   "source": [
    "%run ./animation/animation_4.py"
   ]
  },
  {
   "cell_type": "markdown",
   "metadata": {},
   "source": [
    "## Example Application: SpMV <a class=\"anchor\" id=\"third-section\"></a>\n",
    "\n",
    "The following example demonstrates how computations on tensors are performed using TACO, as well as additional ways of initializing tensors."
   ]
  },
  {
   "cell_type": "markdown",
   "metadata": {},
   "source": [
    "Sparse matrix-vector multiplication (SpMV) is a bottleneck computation in many scientific and engineering computations. Mathematically, SpMV can be expressed as $$y = Ax + z,$$ \n",
    "\n",
    "where where $A$ is a sparse matrix and $x$, $y$, and $z$ are dense vectors. The computation can also be expressed in [index notation](http://tensor-compiler.org/symphony-docs/pycomputations/index.html#specifying-tensor-algebra-computations) as \n",
    "\n",
    "$$y_i = A_{ij} \\cdot x_j + z_i.$$\n",
    "\n",
    "We will use TACO to compute SpMV."
   ]
  },
  {
   "cell_type": "markdown",
   "metadata": {},
   "source": [
    "Let's start by importing that packages we need for this example."
   ]
  },
  {
   "cell_type": "code",
   "execution_count": null,
   "metadata": {},
   "outputs": [],
   "source": [
    "import numpy as np\n",
    "import scipy as sp"
   ]
  },
  {
   "cell_type": "markdown",
   "metadata": {},
   "source": [
    "We generate a sparse CSR matrix with `scipy` randomly, and we convert it to a TACO tensor using the `pytaco.from_sp_csr` [function](http://tensor-compiler.org/symphony-docs/reference/rst_files/functions/pytaco.from_sp_csr.html)."
   ]
  },
  {
   "cell_type": "code",
   "execution_count": null,
   "metadata": {},
   "outputs": [],
   "source": [
    "size = 10000\n",
    "density = 0.01\n",
    "sparse_matrix = sp.sparse.rand(size, size, density = density, format = 'csr')"
   ]
  },
  {
   "cell_type": "code",
   "execution_count": null,
   "metadata": {},
   "outputs": [],
   "source": [
    "A = pt.from_sp_csr(sparse_matrix)"
   ]
  },
  {
   "cell_type": "markdown",
   "metadata": {},
   "source": [
    "We can see the dimensions of $A$ using its `shape` attribute, which we expect to be `[size, size]`:"
   ]
  },
  {
   "cell_type": "code",
   "execution_count": null,
   "metadata": {},
   "outputs": [],
   "source": [
    "A.shape"
   ]
  },
  {
   "cell_type": "markdown",
   "metadata": {},
   "source": [
    "Examining the formula above, we need to define a vector $x$ whose length is the number of columns of $A$, and a vector $z$ whose length is the number of rows. We generate $x$ and $z$ randomly with `numpy`, and we convert them to TACO tensors using the `python.from_array` [function](http://tensor-compiler.org/symphony-docs/reference/rst_files/functions/pytaco.from_array.html)."
   ]
  },
  {
   "cell_type": "code",
   "execution_count": null,
   "metadata": {
    "scrolled": true
   },
   "outputs": [],
   "source": [
    "x = pt.from_array(np.random.uniform(size=A.shape[1]))\n",
    "z = pt.from_array(np.random.uniform(size=A.shape[0]))"
   ]
  },
  {
   "cell_type": "markdown",
   "metadata": {},
   "source": [
    "And we can express the result $y$ as a dense vector. "
   ]
  },
  {
   "cell_type": "code",
   "execution_count": null,
   "metadata": {},
   "outputs": [],
   "source": [
    "y = pt.tensor([A.shape[0]], dense)"
   ]
  },
  {
   "cell_type": "markdown",
   "metadata": {},
   "source": [
    "The syntax for TACO computations closely mirrors index notation, with the caveat that we also have to explicitly declare the index variables beforehand:"
   ]
  },
  {
   "cell_type": "code",
   "execution_count": null,
   "metadata": {},
   "outputs": [],
   "source": [
    "i, j = pt.get_index_vars(2)"
   ]
  },
  {
   "cell_type": "code",
   "execution_count": null,
   "metadata": {},
   "outputs": [],
   "source": [
    "y[i] = A[i, j] * x[j] + z[j]"
   ]
  },
  {
   "cell_type": "markdown",
   "metadata": {},
   "source": [
    "Once a tensor algebra computation has been defined, we can simply invoke the result tensor's `evaluate` method to perform the actual computation.\n",
    "\n",
    "[Under the hood](http://tensor-compiler.org/symphony-docs/pycomputations/index.html#performing-the-computation), TACO will first invoke the result tensor's `compile` method to generate code that performs the computation. TACO will then perform the actual computation by first invoking `assemble` to compute the sparsity structure of the result and subsequently invoking `compute` to compute the values of the result's nonzero elements.\n",
    "\n",
    "We can manually invoke these methods as well. In order to accurately measure TACO's computational performance, only the time it takes to actually perform a computation should be measured. Below, we compile $y$, and then benchmark the computation. "
   ]
  },
  {
   "cell_type": "code",
   "execution_count": null,
   "metadata": {},
   "outputs": [],
   "source": [
    "y.compile()"
   ]
  },
  {
   "cell_type": "code",
   "execution_count": null,
   "metadata": {
    "scrolled": true
   },
   "outputs": [],
   "source": [
    "%%time\n",
    "y.assemble()\n",
    "y.compute()"
   ]
  },
  {
   "cell_type": "markdown",
   "metadata": {},
   "source": [
    "(Note: if you define a computation and then access the result without first manually invoking `evaluate` or `compile`/`assemble`/`compute`, TACO will automatically invoke the computation immediately before the result is accessed.)"
   ]
  },
  {
   "cell_type": "markdown",
   "metadata": {},
   "source": [
    "Finally, we can write the result to a file."
   ]
  },
  {
   "cell_type": "code",
   "execution_count": null,
   "metadata": {},
   "outputs": [],
   "source": [
    "pt.write(\"y.tns\", y)"
   ]
  },
  {
   "cell_type": "markdown",
   "metadata": {},
   "source": [
    "## More Tensor Computations <a class=\"anchor\" id=\"fourth-section\"></a>"
   ]
  }
 ],
 "metadata": {
  "kernelspec": {
   "display_name": "Python 3",
   "language": "python",
   "name": "python3"
  },
  "language_info": {
   "codemirror_mode": {
    "name": "ipython",
    "version": 3
   },
   "file_extension": ".py",
   "mimetype": "text/x-python",
   "name": "python",
   "nbconvert_exporter": "python",
   "pygments_lexer": "ipython3",
   "version": "3.7.4"
  }
 },
 "nbformat": 4,
 "nbformat_minor": 2
}
